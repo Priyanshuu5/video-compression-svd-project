import numpy as np
import cv2

def svd_compress_vector(vector, k):
    U, S, V = np.linalg.svd(vector.reshape(-1, 3), full_matrices=False)
    S_k = np.diag(S[:k])
    return U[:, :k] @ S_k @ V[:k, :]

video_capture = cv2.VideoCapture('video.mp4')
frame_width = int(video_capture.get(3))
frame_height = int(video_capture.get(4))
fps = video_capture.get(cv2.CAP_PROP_FPS)
output_video = cv2.VideoWriter('compressed_video.avi', cv2.VideoWriter_fourcc(*'XVID'), fps, (frame_width, frame_height))
k_values = [5, 20, 50, 100]

while video_capture.isOpened():
    ret, frame = video_capture.read()
    if not ret:
        break
    flattened_frame = frame.reshape(-1, 3)
    for k in k_values:
        compressed_vector = svd_compress_vector(flattened_frame, k)
        compressed_frame = compressed_vector.reshape(frame_height, frame_width, 3)
        output_video.write(np.clip(compressed_frame, 0, 255).astype(np.uint8))
video_capture.release()
output_video.release()
