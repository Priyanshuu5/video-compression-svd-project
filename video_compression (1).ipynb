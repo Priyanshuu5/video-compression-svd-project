{
  "nbformat": 4,
  "nbformat_minor": 0,
  "metadata": {
    "colab": {
      "provenance": []
    },
    "kernelspec": {
      "name": "python3",
      "display_name": "Python 3"
    },
    "language_info": {
      "name": "python"
    }
  },
  "cells": [
    {
      "cell_type": "code",
      "execution_count": 1,
      "metadata": {
        "id": "g86CXNP5iy1G"
      },
      "outputs": [],
      "source": [
        "import numpy as np\n",
        "import cv2\n",
        "\n",
        "def svd_compress_vector(vector, k):\n",
        "    U, S, V = np.linalg.svd(vector.reshape(-1, 3), full_matrices=False)\n",
        "    S_k = np.diag(S[:k])\n",
        "    return U[:, :k] @ S_k @ V[:k, :]\n",
        "\n",
        "video_capture = cv2.VideoCapture('video.mp4')\n",
        "frame_width = int(video_capture.get(3))\n",
        "frame_height = int(video_capture.get(4))\n",
        "fps = video_capture.get(cv2.CAP_PROP_FPS)\n",
        "output_video = cv2.VideoWriter('compressed_video.avi', cv2.VideoWriter_fourcc(*'XVID'), fps, (frame_width, frame_height))\n",
        "k_values = [5, 20, 50, 100]\n",
        "\n",
        "while video_capture.isOpened():\n",
        "    ret, frame = video_capture.read()\n",
        "    if not ret:\n",
        "        break\n",
        "    flattened_frame = frame.reshape(-1, 3)\n",
        "    for k in k_values:\n",
        "        compressed_vector = svd_compress_vector(flattened_frame, k)\n",
        "        compressed_frame = compressed_vector.reshape(frame_height, frame_width, 3)\n",
        "        output_video.write(np.clip(compressed_frame, 0, 255).astype(np.uint8))\n",
        "video_capture.release()\n",
        "output_video.release()\n"
      ]
    }
  ]
}